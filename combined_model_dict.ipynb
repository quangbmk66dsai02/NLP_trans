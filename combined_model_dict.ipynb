{
 "cells": [
  {
   "cell_type": "markdown",
   "metadata": {},
   "source": [
    "### Reading data "
   ]
  },
  {
   "cell_type": "code",
   "execution_count": 35,
   "metadata": {},
   "outputs": [],
   "source": [
    "def read_file(file_path):\n",
    "    with open(file_path, 'r', encoding='utf-8') as file:\n",
    "        return [line.strip() for line in file]\n",
    "\n",
    "def separate_idioms(sentences, idioms):\n",
    "    results = []\n",
    "    for sentence in sentences:\n",
    "        found = False\n",
    "        for idiom in idioms:\n",
    "            if idiom in sentence:\n",
    "                parts = sentence.split(idiom)\n",
    "                parts = [part.strip() for part in parts if part.strip()]\n",
    "                full_components = [parts[0], idiom] + parts[1:] if parts else [idiom]\n",
    "                results.append((idiom, parts, full_components))\n",
    "                found = True\n",
    "                break\n",
    "        if not found:\n",
    "            results.append((None, [sentence], [sentence]))\n",
    "    return results\n",
    "\n",
    "def write_results(results, output_path):\n",
    "    with open(output_path, 'w', encoding='utf-8') as file:\n",
    "        for idiom, parts, full_components in results:\n",
    "            if idiom:\n",
    "                file.write(f\"Idiom: {idiom}\\n\")\n",
    "                file.write(f\"Parts: {parts}\\n\")\n",
    "                file.write(f\"Full Components: {full_components}\\n\\n\")\n",
    "            else:\n",
    "                file.write(f\"Original Sentence: {parts[0]}\\n\\n\")\n",
    "\n",
    "# Read idioms and sentences from their respective files\n",
    "idioms = read_file('data/idiom_data/total_idioms.txt')\n",
    "sentences = read_file('data/idiom_data/total_idiom_sentences.txt')\n",
    "\n",
    "# Separate idioms from sentences\n",
    "results = separate_idioms(sentences, idioms)\n",
    "\n",
    "# Write the results to an output file\n",
    "write_results(results, 'output.txt')\n"
   ]
  },
  {
   "cell_type": "markdown",
   "metadata": {},
   "source": [
    "### Init T5 Model"
   ]
  },
  {
   "cell_type": "code",
   "execution_count": 8,
   "metadata": {},
   "outputs": [
    {
     "name": "stdout",
     "output_type": "stream",
     "text": [
      "There are 1 GPU(s) available.\n",
      "We will use the GPU: NVIDIA GeForce RTX 3050 Laptop GPU\n"
     ]
    },
    {
     "name": "stderr",
     "output_type": "stream",
     "text": [
      "You are using the default legacy behaviour of the <class 'transformers.models.t5.tokenization_t5.T5Tokenizer'>. This is expected, and simply means that the `legacy` (previous) behavior will be used so nothing changes for you. If you want to use the new behaviour, set `legacy=False`. This should only be set if you understand what it means, and thoroughly read the reason why this was added as explained in https://github.com/huggingface/transformers/pull/24565\n"
     ]
    },
    {
     "name": "stdout",
     "output_type": "stream",
     "text": [
      "tensor([[   336,   8448,    259,    273, 134434,    955,    455,  12862,    609,\n",
      "            259, 190361,      1]], device='cuda:0')\n",
      "Tôi mang dù nếu có cơ hội trời mưa\n"
     ]
    }
   ],
   "source": [
    "import torch\n",
    "\n",
    "from transformers import T5ForConditionalGeneration, T5Tokenizer\n",
    "import torch\n",
    "if torch.cuda.is_available():       \n",
    "    device = torch.device(\"cuda\")\n",
    "\n",
    "    print('There are %d GPU(s) available.' % torch.cuda.device_count())\n",
    "    print('We will use the GPU:', torch.cuda.get_device_name(0))\n",
    "else:\n",
    "    print('No GPU available, using the CPU instead.')\n",
    "    device = torch.device(\"cpu\")\n",
    "\n",
    "\n",
    "device = \"cuda\"\n",
    "\n",
    "\n",
    "en_to_vi_model = T5ForConditionalGeneration.from_pretrained(\"NlpHUST/t5-en-vi-base\")\n",
    "en_to_vi_tokenizer = T5Tokenizer.from_pretrained(\"NlpHUST/t5-en-vi-base\")\n",
    "en_to_vi_model.to(device)\n",
    "\n",
    "src = \"I bring umbrella if by chance it rains\"\n",
    "tokenized_text = en_to_vi_tokenizer.encode(src, return_tensors=\"pt\").to(device)\n",
    "print(tokenized_text)\n",
    "en_to_vi_model.eval()\n",
    "summary_ids = en_to_vi_model.generate(\n",
    "                    tokenized_text,\n",
    "                    max_length=128, \n",
    "                    num_beams=5,\n",
    "                    repetition_penalty=2.5, \n",
    "                    length_penalty=1.0, \n",
    "                    early_stopping=True\n",
    "                )\n",
    "output = en_to_vi_tokenizer.decode(summary_ids[0], skip_special_tokens=True)\n",
    "print(output)"
   ]
  },
  {
   "cell_type": "markdown",
   "metadata": {},
   "source": [
    "### Init and Load Idiom Model"
   ]
  },
  {
   "cell_type": "code",
   "execution_count": 1,
   "metadata": {},
   "outputs": [
    {
     "name": "stdout",
     "output_type": "stream",
     "text": [
      "101\n",
      "101\n",
      "100\n",
      "100\n"
     ]
    },
    {
     "name": "stderr",
     "output_type": "stream",
     "text": [
      "/home/quang/anaconda3/envs/pytorch3d/lib/python3.9/site-packages/torchtext/data/__init__.py:4: UserWarning: \n",
      "/!\\ IMPORTANT WARNING ABOUT TORCHTEXT STATUS /!\\ \n",
      "Torchtext is deprecated and the last released version will be 0.18 (this one). You can silence this warning by calling the following at the beginnign of your scripts: `import torchtext; torchtext.disable_torchtext_deprecation_warning()`\n",
      "  warnings.warn(torchtext._TORCHTEXT_DEPRECATION_MSG)\n",
      "/home/quang/anaconda3/envs/pytorch3d/lib/python3.9/site-packages/torchtext/vocab/__init__.py:4: UserWarning: \n",
      "/!\\ IMPORTANT WARNING ABOUT TORCHTEXT STATUS /!\\ \n",
      "Torchtext is deprecated and the last released version will be 0.18 (this one). You can silence this warning by calling the following at the beginnign of your scripts: `import torchtext; torchtext.disable_torchtext_deprecation_warning()`\n",
      "  warnings.warn(torchtext._TORCHTEXT_DEPRECATION_MSG)\n",
      "/home/quang/anaconda3/envs/pytorch3d/lib/python3.9/site-packages/torchtext/utils.py:4: UserWarning: \n",
      "/!\\ IMPORTANT WARNING ABOUT TORCHTEXT STATUS /!\\ \n",
      "Torchtext is deprecated and the last released version will be 0.18 (this one). You can silence this warning by calling the following at the beginnign of your scripts: `import torchtext; torchtext.disable_torchtext_deprecation_warning()`\n",
      "  warnings.warn(torchtext._TORCHTEXT_DEPRECATION_MSG)\n"
     ]
    },
    {
     "name": "stdout",
     "output_type": "stream",
     "text": [
      "input dim 398 outputdim 398\n"
     ]
    }
   ],
   "source": [
    "import torch\n",
    "\n",
    "with open('data/idiom_data/total_idioms.txt') as f:\n",
    "    idioms = f.read()\n",
    "    idiomatic_sentences = idioms.split(\"\\n\")\n",
    "    \n",
    "with open('data/idiom_data/total_translated_idioms.txt') as f:\n",
    "    translated = f.read()\n",
    "    plain_sentences = translated.split(\"\\n\")\n",
    "\n",
    "print(len(idiomatic_sentences))\n",
    "print(len(plain_sentences))\n",
    "idiomatic_sentences = idiomatic_sentences[0:-1]\n",
    "plain_sentences = plain_sentences[0:-1]\n",
    "print(len(idiomatic_sentences))\n",
    "print(len(plain_sentences))\n",
    "\n",
    "\n",
    "from torchtext.data.utils import get_tokenizer\n",
    "from torchtext.vocab import build_vocab_from_iterator\n",
    "\n",
    "# Helper function to tokenize and build vocabulary\n",
    "def yield_tokens(data_iter, tokenizer):\n",
    "    for text in data_iter:\n",
    "        yield tokenizer(text)\n",
    "\n",
    "idiom_tokenizer = get_tokenizer('spacy', language='en_core_web_sm')\n",
    "idiom_vocab = build_vocab_from_iterator(yield_tokens(idiomatic_sentences + plain_sentences, idiom_tokenizer), specials=[\"<unk>\", \"<pad>\", \"<sos>\", \"<eos>\"])\n",
    "idiom_vocab.set_default_index(idiom_vocab[\"<unk>\"])\n",
    "\n",
    "\n",
    "from models.idiom_model import Seq2Seq, Encoder, Decoder, Attention\n",
    "\n",
    "# Parameters\n",
    "INPUT_DIM = len(idiom_vocab)\n",
    "OUTPUT_DIM = len(idiom_vocab)\n",
    "ENC_EMB_DIM = 256\n",
    "DEC_EMB_DIM = 256\n",
    "HID_DIM = 512\n",
    "N_LAYERS = 2\n",
    "ENC_DROPOUT = 0.5\n",
    "DEC_DROPOUT = 0.5\n",
    "CLIP = 1\n",
    "device = torch.device('cuda' if torch.cuda.is_available() else 'cpu')\n",
    "\n",
    "attn = Attention(HID_DIM)\n",
    "enc = Encoder(INPUT_DIM, ENC_EMB_DIM, HID_DIM, N_LAYERS, ENC_DROPOUT)\n",
    "dec = Decoder(OUTPUT_DIM, DEC_EMB_DIM, HID_DIM, N_LAYERS, DEC_DROPOUT, attn)\n",
    "\n"
   ]
  },
  {
   "cell_type": "code",
   "execution_count": 2,
   "metadata": {},
   "outputs": [
    {
     "data": {
      "text/plain": [
       "Seq2Seq(\n",
       "  (encoder): Encoder(\n",
       "    (embedding): Embedding(398, 256)\n",
       "    (rnn): GRU(256, 512, num_layers=2, dropout=0.5)\n",
       "    (dropout): Dropout(p=0.5, inplace=False)\n",
       "  )\n",
       "  (decoder): Decoder(\n",
       "    (attention): Attention(\n",
       "      (attn): Linear(in_features=1024, out_features=512, bias=True)\n",
       "      (v): Linear(in_features=512, out_features=1, bias=False)\n",
       "    )\n",
       "    (embedding): Embedding(398, 256)\n",
       "    (rnn): GRU(768, 512, num_layers=2, dropout=0.5)\n",
       "    (fc_out): Linear(in_features=1280, out_features=398, bias=True)\n",
       "    (dropout): Dropout(p=0.5, inplace=False)\n",
       "  )\n",
       "  (vocab): Vocab()\n",
       ")"
      ]
     },
     "execution_count": 2,
     "metadata": {},
     "output_type": "execute_result"
    }
   ],
   "source": [
    "save_file_path = ('models_checkpoint/idiom_model.pth')  #save with fp32\n",
    "idiom_model = Seq2Seq(enc,dec,device,idiom_vocab, idiom_tokenizer)\n",
    "idiom_model.load_state_dict(torch.load(save_file_path))\n",
    "idiom_model.to(device)"
   ]
  },
  {
   "cell_type": "markdown",
   "metadata": {},
   "source": [
    "### Feed data for model testing"
   ]
  },
  {
   "cell_type": "code",
   "execution_count": 46,
   "metadata": {},
   "outputs": [
    {
     "name": "stdout",
     "output_type": "stream",
     "text": [
      "3\n",
      "normal part after work, he’s\n",
      "idiom part dead to the world\n",
      "generated_idiom <unk> sound asleep\n",
      "normal part .\n",
      "THIS IS PLAIN_EN_SEN_COM ['after work, he’s', 'sound asleep', '.']\n",
      "THIS IS CON_PLAIN_EN_SEN after work, he’s sound asleep .\n",
      "This is the translated sentences:  sau khi làm việc, anh ta có vẻ buồn ngủ.\n"
     ]
    }
   ],
   "source": [
    "given_parts = [\"I bring umbrella if by chance it rains\"]\n",
    "given_parts = results[67]\n",
    "print(len(given_parts))\n",
    "if len(given_parts) < 2:\n",
    "    given_parts = given_parts[0]\n",
    "    en_to_vi_model.eval()\n",
    "    tokenized_text = en_to_vi_tokenizer.encode(given_parts, return_tensors=\"pt\").to(device)\n",
    "    summary_ids = en_to_vi_model.generate(\n",
    "                    tokenized_text,\n",
    "                    max_length=128, \n",
    "                    num_beams=5,\n",
    "                    repetition_penalty=2.5, \n",
    "                    length_penalty=1.0, \n",
    "                    early_stopping=True\n",
    "                )\n",
    "    output = en_to_vi_tokenizer.decode(summary_ids[0], skip_special_tokens=True)\n",
    "    print(\"this is output\", output)\n",
    "else:\n",
    "    total_sen = []\n",
    "    idiom_components = given_parts[0]\n",
    "    non_idiom_componets = given_parts[1]\n",
    "    sentence_components = given_parts[2]\n",
    "    plain_en_sentence_components = []\n",
    "    concatenated_plain_en_sen = \"\"\n",
    "    for part in sentence_components:\n",
    "        if part in idiom_components:\n",
    "            generated_idiom = idiom_model.sample(part)\n",
    "            print(\"idiom part\", part)\n",
    "            print(\"generated_idiom\", generated_idiom)\n",
    "            if \"<unk> \" in generated_idiom:\n",
    "                generated_idiom = generated_idiom[6:]\n",
    "            plain_en_sentence_components.append(generated_idiom)\n",
    "            concatenated_plain_en_sen += generated_idiom + \" \"\n",
    "        else:\n",
    "            print(\"normal part\", part)\n",
    "            plain_en_sentence_components.append(part)\n",
    "            concatenated_plain_en_sen += part + \" \"\n",
    "    concatenated_plain_en_sen = concatenated_plain_en_sen[0:-1]\n",
    "    print(\"THIS IS PLAIN_EN_SEN_COM\", plain_en_sentence_components)\n",
    "    print(\"THIS IS CON_PLAIN_EN_SEN\", concatenated_plain_en_sen)\n",
    "    tokenized_text = en_to_vi_tokenizer.encode(concatenated_plain_en_sen, return_tensors=\"pt\").to(device)\n",
    "    summary_ids = en_to_vi_model.generate(\n",
    "            tokenized_text,\n",
    "            max_length=128, \n",
    "            num_beams=5,\n",
    "            repetition_penalty=2.5, \n",
    "            length_penalty=1.0, \n",
    "            early_stopping=True\n",
    "        )\n",
    "    output = en_to_vi_tokenizer.decode(summary_ids[0], skip_special_tokens=True)\n",
    "\n",
    "    print(\"This is the translated sentences: \", output)\n",
    "    "
   ]
  },
  {
   "cell_type": "code",
   "execution_count": null,
   "metadata": {},
   "outputs": [],
   "source": []
  }
 ],
 "metadata": {
  "kernelspec": {
   "display_name": "pytorch3d",
   "language": "python",
   "name": "python3"
  },
  "language_info": {
   "codemirror_mode": {
    "name": "ipython",
    "version": 3
   },
   "file_extension": ".py",
   "mimetype": "text/x-python",
   "name": "python",
   "nbconvert_exporter": "python",
   "pygments_lexer": "ipython3",
   "version": "3.9.18"
  }
 },
 "nbformat": 4,
 "nbformat_minor": 2
}
