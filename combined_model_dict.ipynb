{
 "cells": [
  {
   "cell_type": "markdown",
   "metadata": {},
   "source": [
    "### Reading data "
   ]
  },
  {
   "cell_type": "code",
   "execution_count": 2,
   "metadata": {},
   "outputs": [],
   "source": [
    "def read_file(file_path):\n",
    "    with open(file_path, 'r', encoding='utf-8') as file:\n",
    "        return [line.strip() for line in file]\n",
    "\n",
    "def separate_idioms(sentences, idioms):\n",
    "    results = []\n",
    "    for sentence in sentences:\n",
    "        found = False\n",
    "        for idiom in idioms:\n",
    "            if idiom in sentence:\n",
    "                parts = sentence.split(idiom)\n",
    "                parts = [part.strip() for part in parts if part.strip()]\n",
    "                pos_id = sentence.find(idiom)\n",
    "                end_id = pos_id + len(idiom)\n",
    "                sen_parts = []\n",
    "                sen_parts.append(sentence[:pos_id])\n",
    "                sen_parts.append(sentence[pos_id:end_id])\n",
    "                sen_parts.append(sentence[end_id:])\n",
    "                \n",
    "            \n",
    "                full_components = [sp for sp in sen_parts if sp !=\"\"]\n",
    "                results.append((idiom, parts, full_components))\n",
    "                found = True\n",
    "                break\n",
    "        if not found:\n",
    "            results.append((None, [sentence], [sentence]))\n",
    "    return results\n",
    "\n",
    "def write_results(results, output_path):\n",
    "    with open(output_path, 'w', encoding='utf-8') as file:\n",
    "        for idiom, parts, full_components in results:\n",
    "            if idiom:\n",
    "                file.write(f\"Idiom: {idiom}\\n\")\n",
    "                file.write(f\"Parts: {parts}\\n\")\n",
    "                file.write(f\"Full Components: {full_components}\\n\\n\")\n",
    "            else:\n",
    "                file.write(f\"Original Sentence: {parts[0]}\\n\\n\")\n",
    "\n",
    "# Read idioms and sentences from their respective files\n",
    "idioms = read_file('data/idiom_data/total_idioms.txt')\n",
    "sentences = read_file('data/idiom_data/total_idiom_sentences.txt')\n",
    "\n",
    "# Separate idioms from sentences\n",
    "results = separate_idioms(sentences, idioms)\n",
    "\n",
    "# Write the results to an output file\n",
    "write_results(results, 'output.txt')\n"
   ]
  },
  {
   "cell_type": "markdown",
   "metadata": {},
   "source": [
    "### Init T5 Model"
   ]
  },
  {
   "cell_type": "code",
   "execution_count": 3,
   "metadata": {},
   "outputs": [
    {
     "name": "stdout",
     "output_type": "stream",
     "text": [
      "There are 1 GPU(s) available.\n",
      "We will use the GPU: NVIDIA GeForce RTX 3050 Laptop GPU\n"
     ]
    },
    {
     "name": "stderr",
     "output_type": "stream",
     "text": [
      "You are using the default legacy behaviour of the <class 'transformers.models.t5.tokenization_t5.T5Tokenizer'>. This is expected, and simply means that the `legacy` (previous) behavior will be used so nothing changes for you. If you want to use the new behaviour, set `legacy=False`. This should only be set if you understand what it means, and thoroughly read the reason why this was added as explained in https://github.com/huggingface/transformers/pull/24565\n"
     ]
    },
    {
     "name": "stdout",
     "output_type": "stream",
     "text": [
      "tensor([[   336,   8448,    259,    273, 134434,    955,    455,  12862,    609,\n",
      "            259, 190361,      1]], device='cuda:0')\n",
      "Tôi mang dù nếu có cơ hội trời mưa\n"
     ]
    }
   ],
   "source": [
    "import torch\n",
    "\n",
    "from transformers import T5ForConditionalGeneration, T5Tokenizer\n",
    "import torch\n",
    "if torch.cuda.is_available():       \n",
    "    device = torch.device(\"cuda\")\n",
    "\n",
    "    print('There are %d GPU(s) available.' % torch.cuda.device_count())\n",
    "    print('We will use the GPU:', torch.cuda.get_device_name(0))\n",
    "else:\n",
    "    print('No GPU available, using the CPU instead.')\n",
    "    device = torch.device(\"cpu\")\n",
    "\n",
    "\n",
    "device = \"cuda\"\n",
    "\n",
    "\n",
    "en_to_vi_model = T5ForConditionalGeneration.from_pretrained(\"NlpHUST/t5-en-vi-base\")\n",
    "en_to_vi_tokenizer = T5Tokenizer.from_pretrained(\"NlpHUST/t5-en-vi-base\")\n",
    "en_to_vi_model.to(device)\n",
    "\n",
    "src = \"I bring umbrella if by chance it rains\"\n",
    "tokenized_text = en_to_vi_tokenizer.encode(src, return_tensors=\"pt\").to(device)\n",
    "print(tokenized_text)\n",
    "en_to_vi_model.eval()\n",
    "summary_ids = en_to_vi_model.generate(\n",
    "                    tokenized_text,\n",
    "                    max_length=128, \n",
    "                    num_beams=5,\n",
    "                    repetition_penalty=2.5, \n",
    "                    length_penalty=1.0, \n",
    "                    early_stopping=True\n",
    "                )\n",
    "output = en_to_vi_tokenizer.decode(summary_ids[0], skip_special_tokens=True)\n",
    "print(output)"
   ]
  },
  {
   "cell_type": "markdown",
   "metadata": {},
   "source": [
    "### Init and Load Idiom Dictionary\n"
   ]
  },
  {
   "cell_type": "code",
   "execution_count": 4,
   "metadata": {},
   "outputs": [
    {
     "name": "stdout",
     "output_type": "stream",
     "text": [
      "{'just in case': 'as a precaution', 'a sorry sight': 'something pitiful or disappointing to see', 'rule of thumb': 'a general guideline', 'carpe diem': 'seize the day', 'salad days': 'youthful times', 'off the record': 'unofficially', 'thank goodness': 'luckily', 'big bucks': 'a lot of money', 'dog days': 'the hottest days of summer', 'wet behind the ears': 'inexperienced', 'just deserts': 'deserved outcome', 'an arm and a leg': 'very expensive', 'never mind': 'forget it', 'bricks and mortar': 'physical buildings', 'close call': 'narrow escape', 'a sight for sore eyes': 'a welcome sight', 'open warfare': 'obvious conflict', 'pin money': 'small amount of money', 'third time lucky': 'success on the third attempt', 'race against time': 'rushing to meet a deadline', 'rain or shine': 'no matter the weather', 'hold on a second': 'wait a moment', 'next to nothing': 'almost free', 'cheek by jowl': 'very close together', 'black and blue': 'bruised', 'dead wood': 'useless people or things', 'stranger things have happened': 'unlikely, but possible', 'pigs might fly': 'very unlikely', 'poetry in motion': 'graceful movement', 'dressed up to the nines': 'very dressed up', 'way around': 'alternative method', 'no strings attached': 'without conditions', 'a shot in the arm': 'a boost', 'below the salt': 'of low status', 'heart of gold': 'very kind and generous', 'in the pipeline': 'being planned or developed', 'golden age': 'a period of great achievement', 'in limbo': 'in a state of uncertainty', 'baptism of fire': 'a difficult introduction', 'beyond words': 'indescribable', 'on the table': 'available for discussion', 'in a bad shape': 'in poor condition', 'on the horns of a dilemma': 'facing a difficult choice', 'under pressure': 'stressed', 'dead right': 'absolutely correct', 'give me five': 'high five', 'in the heat of the moment': 'overwhelmed by emotion', 'fit as a fiddle': 'very healthy', 'charity begins at home': 'take care of your family first', 'syrup of figs': 'laxative', 'against time': 'in a hurry', 'neither fish nor fowl': 'not fitting into any specific category', 'well hung': 'securely fastened or displayed', 'in a nutshell': 'briefly', 'red handed': 'caught in the act', 'at hand': 'nearby or readily available', 'by the numbers': 'following a set procedure or routine', 'nest egg': 'savings', 'shelf life': 'the duration of usability', 'flotsam and jetsam': 'miscellaneous or discarded items', 'out on the town': 'enjoying nightlife', 'on the fence': 'undecided', 'fancy free': 'unattached and carefree', 'head over heels': 'deeply in love', 'at the drop of a hat': 'immediately', 'poetic justice': 'a fitting retribution', 'in the eyes of the law': 'legally', 'dead to the world': 'sound asleep', 'odds and ends': 'miscellaneous items', 'an ugly duckling': 'an unattractive person who becomes beautiful', 'money for old rope': 'easy money', 'daily grind': 'routine work', 'well read': 'knowledgeable from reading', 'no spring chicken': 'not young', 'let sleeping dogs lie': \"don't disturb a situation\", 'easier said than done': 'harder to do than to say', 'son of a gun': 'an expression of surprise or admiration', 'hold your horses': 'wait and be patient', 'god forbid': 'hopefully not', 'across the board': 'affecting everyone equally', 'against the clock': 'in a hurry', 'in the same boat': 'in the same difficult situation', 'skid row': 'a run-down area', 'the best of both worlds': 'the advantages of two different things', 'nitty gritty': 'the basic details', 'the men in grey suits': 'powerful but anonymous people', 'caught in the crossfire': 'involved in a conflict unintentionally', 'between life and death': 'at a critical point of survival', 'time is money': 'time is valuable', 'young blood': 'young and energetic people', 'labour of love': 'work done for passion, not money', 'the acid test': 'a crucial test', 'dead and buried': 'completely finished', 'as poor as a church mouse': 'very poor', 'the holy grail': 'a sought-after goal', 'to this day': 'until now', 'whiter than white': 'perfectly honest or pure', 'all together now': 'everyone together', 'inside job': 'a crime committed by an insider', 'magic touch': 'a special talent'}\n",
      "Translation for 'carpe diem': seize the day\n",
      "{'just in case': 'as a precaution', 'a sorry sight': 'something pitiful or disappointing to see', 'rule of thumb': 'a general guideline', 'carpe diem': 'seize the day', 'salad days': 'youthful times', 'off the record': 'unofficially', 'thank goodness': 'luckily', 'big bucks': 'a lot of money', 'dog days': 'the hottest days of summer', 'wet behind the ears': 'inexperienced', 'just deserts': 'deserved outcome', 'an arm and a leg': 'very expensive', 'never mind': 'forget it', 'bricks and mortar': 'physical buildings', 'close call': 'narrow escape', 'a sight for sore eyes': 'a welcome sight', 'open warfare': 'obvious conflict', 'pin money': 'small amount of money', 'third time lucky': 'success on the third attempt', 'race against time': 'rushing to meet a deadline', 'rain or shine': 'no matter the weather', 'hold on a second': 'wait a moment', 'next to nothing': 'almost free', 'cheek by jowl': 'very close together', 'black and blue': 'bruised', 'dead wood': 'useless people or things', 'stranger things have happened': 'unlikely, but possible', 'pigs might fly': 'very unlikely', 'poetry in motion': 'graceful movement', 'dressed up to the nines': 'very dressed up', 'way around': 'alternative method', 'no strings attached': 'without conditions', 'a shot in the arm': 'a boost', 'below the salt': 'of low status', 'heart of gold': 'very kind and generous', 'in the pipeline': 'being planned or developed', 'golden age': 'a period of great achievement', 'in limbo': 'in a state of uncertainty', 'baptism of fire': 'a difficult introduction', 'beyond words': 'indescribable', 'on the table': 'available for discussion', 'in a bad shape': 'in poor condition', 'on the horns of a dilemma': 'facing a difficult choice', 'under pressure': 'stressed', 'dead right': 'absolutely correct', 'give me five': 'high five', 'in the heat of the moment': 'overwhelmed by emotion', 'fit as a fiddle': 'very healthy', 'charity begins at home': 'take care of your family first', 'syrup of figs': 'laxative', 'against time': 'in a hurry', 'neither fish nor fowl': 'not fitting into any specific category', 'well hung': 'securely fastened or displayed', 'in a nutshell': 'briefly', 'red handed': 'caught in the act', 'at hand': 'nearby or readily available', 'by the numbers': 'following a set procedure or routine', 'nest egg': 'savings', 'shelf life': 'the duration of usability', 'flotsam and jetsam': 'miscellaneous or discarded items', 'out on the town': 'enjoying nightlife', 'on the fence': 'undecided', 'fancy free': 'unattached and carefree', 'head over heels': 'deeply in love', 'at the drop of a hat': 'immediately', 'poetic justice': 'a fitting retribution', 'in the eyes of the law': 'legally', 'dead to the world': 'sound asleep', 'odds and ends': 'miscellaneous items', 'an ugly duckling': 'an unattractive person who becomes beautiful', 'money for old rope': 'easy money', 'daily grind': 'routine work', 'well read': 'knowledgeable from reading', 'no spring chicken': 'not young', 'let sleeping dogs lie': \"don't disturb a situation\", 'easier said than done': 'harder to do than to say', 'son of a gun': 'an expression of surprise or admiration', 'hold your horses': 'wait and be patient', 'god forbid': 'hopefully not', 'across the board': 'affecting everyone equally', 'against the clock': 'in a hurry', 'in the same boat': 'in the same difficult situation', 'skid row': 'a run-down area', 'the best of both worlds': 'the advantages of two different things', 'nitty gritty': 'the basic details', 'the men in grey suits': 'powerful but anonymous people', 'caught in the crossfire': 'involved in a conflict unintentionally', 'between life and death': 'at a critical point of survival', 'time is money': 'time is valuable', 'young blood': 'young and energetic people', 'labour of love': 'work done for passion, not money', 'the acid test': 'a crucial test', 'dead and buried': 'completely finished', 'as poor as a church mouse': 'very poor', 'the holy grail': 'a sought-after goal', 'to this day': 'until now', 'whiter than white': 'perfectly honest or pure', 'all together now': 'everyone together', 'inside job': 'a crime committed by an insider', 'magic touch': 'a special talent'}\n"
     ]
    }
   ],
   "source": [
    "from models.idiom_dictionary import IdiomTransDict\n",
    "\n",
    "\n",
    "idioms_file = 'data/idiom_data/total_idioms.txt'\n",
    "translations_file = 'data/idiom_data/total_translated_idioms.txt'\n",
    "\n",
    "idiom_dict = IdiomTransDict(idioms_file, translations_file)\n",
    "print(idiom_dict.dictionary)"
   ]
  },
  {
   "cell_type": "markdown",
   "metadata": {},
   "source": [
    "### Feed data for model testing"
   ]
  },
  {
   "cell_type": "code",
   "execution_count": 5,
   "metadata": {},
   "outputs": [
    {
     "name": "stdout",
     "output_type": "stream",
     "text": [
      "3\n",
      "Idiom part: just in case\n",
      "Generated idiom: as a precaution\n",
      "THIS IS PLAIN_EN_SEN_COM: ['bring an umbrella ', 'as a precaution', ' it rains.']\n",
      "THIS IS CON_PLAIN_EN_SEN: bring an umbrella  as a precaution  it rains.\n"
     ]
    },
    {
     "name": "stdout",
     "output_type": "stream",
     "text": [
      "This is the translated sentences:  mang theo một cây dù để tránh mưa.\n"
     ]
    }
   ],
   "source": [
    "i =0 \n",
    "given_parts = results[i]\n",
    "print(len(given_parts))\n",
    "if len(given_parts) < 2:\n",
    "    given_parts = given_parts[0]\n",
    "    en_to_vi_model.eval()\n",
    "    tokenized_text = en_to_vi_tokenizer.encode(given_parts, return_tensors=\"pt\").to(device)\n",
    "    summary_ids = en_to_vi_model.generate(\n",
    "                    tokenized_text,\n",
    "                    max_length=128, \n",
    "                    num_beams=5,\n",
    "                    repetition_penalty=2.5, \n",
    "                    length_penalty=1.0, \n",
    "                    early_stopping=True\n",
    "                )\n",
    "    output = en_to_vi_tokenizer.decode(summary_ids[0], skip_special_tokens=True)\n",
    "    print(\"this is output\", output)\n",
    "else:\n",
    "    total_sen = []\n",
    "    idiom_components = given_parts[0]\n",
    "    non_idiom_componets = given_parts[1]\n",
    "    sentence_components = given_parts[2]\n",
    "    plain_en_sentence_components = []\n",
    "    concatenated_plain_en_sen = \"\"\n",
    "    for part in sentence_components:\n",
    "        if part in idiom_components:\n",
    "            generated_idiom = idiom_dict.get_translation(part)\n",
    "            print(\"Idiom part:\", part)\n",
    "            print(\"Generated idiom:\", generated_idiom)\n",
    "            if \"<unk> \" in generated_idiom:\n",
    "                generated_idiom = generated_idiom[6:]\n",
    "            plain_en_sentence_components.append(generated_idiom)\n",
    "            concatenated_plain_en_sen += generated_idiom + \" \"\n",
    "        else:\n",
    "            plain_en_sentence_components.append(part)\n",
    "            concatenated_plain_en_sen += part + \" \"\n",
    "    concatenated_plain_en_sen = concatenated_plain_en_sen[0:-1]\n",
    "    print(\"THIS IS PLAIN_EN_SEN_COM:\", plain_en_sentence_components)\n",
    "    print(\"THIS IS CON_PLAIN_EN_SEN:\", concatenated_plain_en_sen)\n",
    "    tokenized_text = en_to_vi_tokenizer.encode(concatenated_plain_en_sen, return_tensors=\"pt\").to(device)\n",
    "    summary_ids = en_to_vi_model.generate(\n",
    "            tokenized_text,\n",
    "            max_length=128, \n",
    "            num_beams=5,\n",
    "            repetition_penalty=2.5, \n",
    "            length_penalty=1.0, \n",
    "            early_stopping=True\n",
    "        )\n",
    "    output = en_to_vi_tokenizer.decode(summary_ids[0], skip_special_tokens=True)\n",
    "\n",
    "    print(\"This is the translated sentences: \", output)\n",
    "    "
   ]
  },
  {
   "cell_type": "code",
   "execution_count": 6,
   "metadata": {},
   "outputs": [
    {
     "name": "stdout",
     "output_type": "stream",
     "text": [
      "40\n",
      "this is output mang theo một cây dù chỉ trong trường hợp trời mưa.\n",
      "This is the translated sentences:  mang theo một cây dù chỉ trong trường hợp trời mưa.\n"
     ]
    }
   ],
   "source": [
    "given_parts = sentences[i]\n",
    "print(len(given_parts))\n",
    "en_to_vi_model.eval()\n",
    "tokenized_text = en_to_vi_tokenizer.encode(given_parts, return_tensors=\"pt\").to(device)\n",
    "summary_ids = en_to_vi_model.generate(\n",
    "                tokenized_text,\n",
    "                max_length=128, \n",
    "                num_beams=5,\n",
    "                repetition_penalty=2.5, \n",
    "                length_penalty=1.0, \n",
    "                early_stopping=True\n",
    "            )\n",
    "output = en_to_vi_tokenizer.decode(summary_ids[0], skip_special_tokens=True)\n",
    "print(\"this is output\", output)\n",
    "\n",
    "\n",
    "print(\"This is the translated sentences: \", output)\n",
    "    "
   ]
  },
  {
   "cell_type": "markdown",
   "metadata": {},
   "source": [
    "### WITH MODEL QUANTIZATION"
   ]
  },
  {
   "cell_type": "code",
   "execution_count": 7,
   "metadata": {},
   "outputs": [],
   "source": [
    "import torch.quantization\n",
    "\n",
    "device = \"cpu\"\n",
    "en_to_vi_model.to(device)\n",
    "quantized_model = torch.quantization.quantize_dynamic(en_to_vi_model, {torch.nn.Linear}, dtype=torch.qint8).to(device)"
   ]
  },
  {
   "cell_type": "code",
   "execution_count": 9,
   "metadata": {},
   "outputs": [
    {
     "name": "stdout",
     "output_type": "stream",
     "text": [
      "3\n",
      "Idiom part: just in case\n",
      "Generated idiom: as a precaution\n",
      "THIS IS CON_PLAIN_EN_SEN: bring an umbrella  as a precaution  it rains.\n",
      "This is the translated sentences:  mang một chiếc ô để phòng ngừa trời mưa.\n"
     ]
    }
   ],
   "source": [
    "i =0 \n",
    "given_parts = results[i]\n",
    "print(len(given_parts))\n",
    "if len(given_parts) < 2:\n",
    "    given_parts = given_parts[0]\n",
    "    quantized_model.eval()\n",
    "    tokenized_text = en_to_vi_tokenizer.encode(given_parts, return_tensors=\"pt\").to(device)\n",
    "    summary_ids = quantized_model.generate(\n",
    "                    tokenized_text,\n",
    "                    max_length=128, \n",
    "                    num_beams=5,\n",
    "                    repetition_penalty=2.5, \n",
    "                    length_penalty=1.0, \n",
    "                    early_stopping=True\n",
    "                )\n",
    "    output = en_to_vi_tokenizer.decode(summary_ids[0], skip_special_tokens=True)\n",
    "    print(\"this is output\", output)\n",
    "else:\n",
    "    total_sen = []\n",
    "    idiom_components = given_parts[0]\n",
    "    non_idiom_componets = given_parts[1]\n",
    "    sentence_components = given_parts[2]\n",
    "    concatenated_plain_en_sen = \"\"\n",
    "    for part in sentence_components:\n",
    "        if part in idiom_components:\n",
    "            generated_idiom = idiom_dict.get_translation(part)\n",
    "            print(\"Idiom part:\", part)\n",
    "            print(\"Generated idiom:\", generated_idiom)\n",
    "            if \"<unk> \" in generated_idiom:\n",
    "                generated_idiom = generated_idiom[6:]\n",
    "            concatenated_plain_en_sen += generated_idiom + \" \"\n",
    "        else:\n",
    "            concatenated_plain_en_sen += part + \" \"\n",
    "    concatenated_plain_en_sen = concatenated_plain_en_sen[0:-1]\n",
    "    print(\"THIS IS CON_PLAIN_EN_SEN:\", concatenated_plain_en_sen)\n",
    "    tokenized_text = en_to_vi_tokenizer.encode(concatenated_plain_en_sen, return_tensors=\"pt\").to(device)\n",
    "    summary_ids = quantized_model.generate(\n",
    "            tokenized_text,\n",
    "            max_length=128, \n",
    "            num_beams=5,\n",
    "            repetition_penalty=2.5, \n",
    "            length_penalty=1.0, \n",
    "            early_stopping=True\n",
    "        )\n",
    "    output = en_to_vi_tokenizer.decode(summary_ids[0], skip_special_tokens=True)\n",
    "\n",
    "    print(\"This is the translated sentences: \", output)\n",
    "    "
   ]
  }
 ],
 "metadata": {
  "kernelspec": {
   "display_name": "pytorch3d",
   "language": "python",
   "name": "python3"
  },
  "language_info": {
   "codemirror_mode": {
    "name": "ipython",
    "version": 3
   },
   "file_extension": ".py",
   "mimetype": "text/x-python",
   "name": "python",
   "nbconvert_exporter": "python",
   "pygments_lexer": "ipython3",
   "version": "3.9.18"
  }
 },
 "nbformat": 4,
 "nbformat_minor": 2
}
